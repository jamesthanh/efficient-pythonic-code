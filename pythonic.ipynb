{
 "metadata": {
  "language_info": {
   "codemirror_mode": {
    "name": "ipython",
    "version": 3
   },
   "file_extension": ".py",
   "mimetype": "text/x-python",
   "name": "python",
   "nbconvert_exporter": "python",
   "pygments_lexer": "ipython3",
   "version": "3.7.6-final"
  },
  "orig_nbformat": 2,
  "kernelspec": {
   "name": "python3",
   "display_name": "Python 3"
  }
 },
 "nbformat": 4,
 "nbformat_minor": 2,
 "cells": [
  {
   "cell_type": "code",
   "execution_count": 28,
   "metadata": {},
   "outputs": [],
   "source": [
    "import pandas as pd\n",
    "import numpy as np"
   ]
  },
  {
   "cell_type": "code",
   "execution_count": 39,
   "metadata": {},
   "outputs": [],
   "source": [
    "homeless_df = pd.read_csv('homelessness.csv')"
   ]
  },
  {
   "cell_type": "code",
   "execution_count": 40,
   "metadata": {},
   "outputs": [
    {
     "output_type": "execute_result",
     "data": {
      "text/plain": [
       "   Unnamed: 0              region       state  individuals  family_members  \\\n",
       "0           0  East South Central     Alabama       2570.0           864.0   \n",
       "1           1             Pacific      Alaska       1434.0           582.0   \n",
       "2           2            Mountain     Arizona       7259.0          2606.0   \n",
       "3           3  West South Central    Arkansas       2280.0           432.0   \n",
       "4           4             Pacific  California     109008.0         20964.0   \n",
       "\n",
       "   state_pop  \n",
       "0    4887681  \n",
       "1     735139  \n",
       "2    7158024  \n",
       "3    3009733  \n",
       "4   39461588  "
      ],
      "text/html": "<div>\n<style scoped>\n    .dataframe tbody tr th:only-of-type {\n        vertical-align: middle;\n    }\n\n    .dataframe tbody tr th {\n        vertical-align: top;\n    }\n\n    .dataframe thead th {\n        text-align: right;\n    }\n</style>\n<table border=\"1\" class=\"dataframe\">\n  <thead>\n    <tr style=\"text-align: right;\">\n      <th></th>\n      <th>Unnamed: 0</th>\n      <th>region</th>\n      <th>state</th>\n      <th>individuals</th>\n      <th>family_members</th>\n      <th>state_pop</th>\n    </tr>\n  </thead>\n  <tbody>\n    <tr>\n      <th>0</th>\n      <td>0</td>\n      <td>East South Central</td>\n      <td>Alabama</td>\n      <td>2570.0</td>\n      <td>864.0</td>\n      <td>4887681</td>\n    </tr>\n    <tr>\n      <th>1</th>\n      <td>1</td>\n      <td>Pacific</td>\n      <td>Alaska</td>\n      <td>1434.0</td>\n      <td>582.0</td>\n      <td>735139</td>\n    </tr>\n    <tr>\n      <th>2</th>\n      <td>2</td>\n      <td>Mountain</td>\n      <td>Arizona</td>\n      <td>7259.0</td>\n      <td>2606.0</td>\n      <td>7158024</td>\n    </tr>\n    <tr>\n      <th>3</th>\n      <td>3</td>\n      <td>West South Central</td>\n      <td>Arkansas</td>\n      <td>2280.0</td>\n      <td>432.0</td>\n      <td>3009733</td>\n    </tr>\n    <tr>\n      <th>4</th>\n      <td>4</td>\n      <td>Pacific</td>\n      <td>California</td>\n      <td>109008.0</td>\n      <td>20964.0</td>\n      <td>39461588</td>\n    </tr>\n  </tbody>\n</table>\n</div>"
     },
     "metadata": {},
     "execution_count": 40
    }
   ],
   "source": [
    "homeless_df.head()"
   ]
  },
  {
   "cell_type": "code",
   "execution_count": 53,
   "metadata": {},
   "outputs": [],
   "source": [
    "# Add total col as sum of individuals and family_members\n",
    "homeless_df[\"total\"] = homeless_df[\"individuals\"] + homeless_df[\"family_members\"]"
   ]
  },
  {
   "cell_type": "code",
   "execution_count": 58,
   "metadata": {},
   "outputs": [],
   "source": [
    "# calculate the % of homeless people per state\n",
    "def cal_homeless_ratio(individuals, total):\n",
    "    homeless_ratio = individuals / total\n",
    "    return homeless_ratio"
   ]
  },
  {
   "cell_type": "code",
   "execution_count": 59,
   "metadata": {},
   "outputs": [
    {
     "output_type": "stream",
     "name": "stdout",
     "text": [
      "15.3 ms ± 2.26 ms per loop (mean ± std. dev. of 7 runs, 10 loops each)\n"
     ]
    }
   ],
   "source": [
    "%%timeit\n",
    "homeless_ratio_list = []\n",
    "for i in range(len(homeless_df)):\n",
    "    row = homeless_df.iloc[i]\n",
    "    individuals = row['individuals']\n",
    "    total = row['total']\n",
    "\n",
    "    homeless_ratio = cal_homeless_ratio(individuals, total)\n",
    "    homeless_ratio_list.append(homeless_ratio)\n",
    "homeless_df['homeless_ratio'] = homeless_ratio_list"
   ]
  },
  {
   "cell_type": "code",
   "execution_count": 60,
   "metadata": {},
   "outputs": [
    {
     "output_type": "execute_result",
     "data": {
      "text/plain": [
       "   Unnamed: 0              region                 state  individuals  \\\n",
       "0           0  East South Central               Alabama       2570.0   \n",
       "1           1             Pacific                Alaska       1434.0   \n",
       "2           2            Mountain               Arizona       7259.0   \n",
       "3           3  West South Central              Arkansas       2280.0   \n",
       "4           4             Pacific            California     109008.0   \n",
       "5           5            Mountain              Colorado       7607.0   \n",
       "6           6         New England           Connecticut       2280.0   \n",
       "7           7      South Atlantic              Delaware        708.0   \n",
       "8           8      South Atlantic  District of Columbia       3770.0   \n",
       "9           9      South Atlantic               Florida      21443.0   \n",
       "\n",
       "   family_members  state_pop  homeless_ratio     total  \n",
       "0           864.0    4887681        0.748398    3434.0  \n",
       "1           582.0     735139        0.711310    2016.0  \n",
       "2          2606.0    7158024        0.735834    9865.0  \n",
       "3           432.0    3009733        0.840708    2712.0  \n",
       "4         20964.0   39461588        0.838704  129972.0  \n",
       "5          3250.0    5691287        0.700654   10857.0  \n",
       "6          1696.0    3571520        0.573441    3976.0  \n",
       "7           374.0     965479        0.654344    1082.0  \n",
       "8          3134.0     701547        0.546060    6904.0  \n",
       "9          9587.0   21244317        0.691041   31030.0  "
      ],
      "text/html": "<div>\n<style scoped>\n    .dataframe tbody tr th:only-of-type {\n        vertical-align: middle;\n    }\n\n    .dataframe tbody tr th {\n        vertical-align: top;\n    }\n\n    .dataframe thead th {\n        text-align: right;\n    }\n</style>\n<table border=\"1\" class=\"dataframe\">\n  <thead>\n    <tr style=\"text-align: right;\">\n      <th></th>\n      <th>Unnamed: 0</th>\n      <th>region</th>\n      <th>state</th>\n      <th>individuals</th>\n      <th>family_members</th>\n      <th>state_pop</th>\n      <th>homeless_ratio</th>\n      <th>total</th>\n    </tr>\n  </thead>\n  <tbody>\n    <tr>\n      <th>0</th>\n      <td>0</td>\n      <td>East South Central</td>\n      <td>Alabama</td>\n      <td>2570.0</td>\n      <td>864.0</td>\n      <td>4887681</td>\n      <td>0.748398</td>\n      <td>3434.0</td>\n    </tr>\n    <tr>\n      <th>1</th>\n      <td>1</td>\n      <td>Pacific</td>\n      <td>Alaska</td>\n      <td>1434.0</td>\n      <td>582.0</td>\n      <td>735139</td>\n      <td>0.711310</td>\n      <td>2016.0</td>\n    </tr>\n    <tr>\n      <th>2</th>\n      <td>2</td>\n      <td>Mountain</td>\n      <td>Arizona</td>\n      <td>7259.0</td>\n      <td>2606.0</td>\n      <td>7158024</td>\n      <td>0.735834</td>\n      <td>9865.0</td>\n    </tr>\n    <tr>\n      <th>3</th>\n      <td>3</td>\n      <td>West South Central</td>\n      <td>Arkansas</td>\n      <td>2280.0</td>\n      <td>432.0</td>\n      <td>3009733</td>\n      <td>0.840708</td>\n      <td>2712.0</td>\n    </tr>\n    <tr>\n      <th>4</th>\n      <td>4</td>\n      <td>Pacific</td>\n      <td>California</td>\n      <td>109008.0</td>\n      <td>20964.0</td>\n      <td>39461588</td>\n      <td>0.838704</td>\n      <td>129972.0</td>\n    </tr>\n    <tr>\n      <th>5</th>\n      <td>5</td>\n      <td>Mountain</td>\n      <td>Colorado</td>\n      <td>7607.0</td>\n      <td>3250.0</td>\n      <td>5691287</td>\n      <td>0.700654</td>\n      <td>10857.0</td>\n    </tr>\n    <tr>\n      <th>6</th>\n      <td>6</td>\n      <td>New England</td>\n      <td>Connecticut</td>\n      <td>2280.0</td>\n      <td>1696.0</td>\n      <td>3571520</td>\n      <td>0.573441</td>\n      <td>3976.0</td>\n    </tr>\n    <tr>\n      <th>7</th>\n      <td>7</td>\n      <td>South Atlantic</td>\n      <td>Delaware</td>\n      <td>708.0</td>\n      <td>374.0</td>\n      <td>965479</td>\n      <td>0.654344</td>\n      <td>1082.0</td>\n    </tr>\n    <tr>\n      <th>8</th>\n      <td>8</td>\n      <td>South Atlantic</td>\n      <td>District of Columbia</td>\n      <td>3770.0</td>\n      <td>3134.0</td>\n      <td>701547</td>\n      <td>0.546060</td>\n      <td>6904.0</td>\n    </tr>\n    <tr>\n      <th>9</th>\n      <td>9</td>\n      <td>South Atlantic</td>\n      <td>Florida</td>\n      <td>21443.0</td>\n      <td>9587.0</td>\n      <td>21244317</td>\n      <td>0.691041</td>\n      <td>31030.0</td>\n    </tr>\n  </tbody>\n</table>\n</div>"
     },
     "metadata": {},
     "execution_count": 60
    }
   ],
   "source": [
    "homeless_df.head(10)"
   ]
  },
  {
   "cell_type": "code",
   "execution_count": 62,
   "metadata": {},
   "outputs": [
    {
     "output_type": "stream",
     "name": "stdout",
     "text": [
      "7.57 ms ± 877 µs per loop (mean ± std. dev. of 7 runs, 100 loops each)\n"
     ]
    }
   ],
   "source": [
    "%%timeit\n",
    "homeless_ratio_list = []\n",
    "for i, row in homeless_df.iterrows():\n",
    "    individuals = row['individuals']\n",
    "    total = row['total']\n",
    "    \n",
    "    homeless_ratio = cal_homeless_ratio(individuals, total)\n",
    "    homeless_ratio_list.append(homeless_ratio)\n",
    "homeless_df['homeless_ratio'] = homeless_ratio_list"
   ]
  },
  {
   "cell_type": "code",
   "execution_count": 65,
   "metadata": {},
   "outputs": [
    {
     "output_type": "stream",
     "name": "stdout",
     "text": [
      "1.24 ms ± 49.2 µs per loop (mean ± std. dev. of 7 runs, 1000 loops each)\n"
     ]
    }
   ],
   "source": [
    "%%timeit\n",
    "homeless_ratio_list = []\n",
    "for row in homeless_df.itertuples():\n",
    "    individuals = row.individuals\n",
    "    total = row.total\n",
    "\n",
    "    homeless_ratio = cal_homeless_ratio(individuals, total)\n",
    "    homeless_ratio_list.append(homeless_ratio)\n",
    "homeless_df['homeless_ratio'] = homeless_ratio_list"
   ]
  },
  {
   "cell_type": "code",
   "execution_count": 69,
   "metadata": {},
   "outputs": [
    {
     "output_type": "stream",
     "name": "stdout",
     "text": [
      "2.96 ms ± 181 µs per loop (mean ± std. dev. of 7 runs, 100 loops each)\n"
     ]
    }
   ],
   "source": [
    "%%timeit\n",
    "homeles_ratio = homeless_df.apply(\n",
    "    lambda row: cal_homeless_ratio(row['individuals'], row['total']), axis=1)\n",
    "homeless_df['homeless_ratio'] = homeles_ratio"
   ]
  },
  {
   "cell_type": "code",
   "execution_count": 67,
   "metadata": {},
   "outputs": [
    {
     "output_type": "stream",
     "name": "stdout",
     "text": [
      "172 µs ± 13.6 µs per loop (mean ± std. dev. of 7 runs, 1000 loops each)\n"
     ]
    }
   ],
   "source": [
    "%%timeit\n",
    "homeless_ratio_df = homeless_df['individuals'].values - homeless_df['total'].values\n",
    "homeless_df['homeless_ratio'] = homeless_ratio_df"
   ]
  },
  {
   "cell_type": "code",
   "execution_count": null,
   "metadata": {},
   "outputs": [],
   "source": []
  }
 ]
}